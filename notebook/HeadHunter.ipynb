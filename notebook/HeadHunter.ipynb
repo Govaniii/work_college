{
 "cells": [
  {
   "cell_type": "code",
   "execution_count": 1,
   "id": "1a03b784",
   "metadata": {},
   "outputs": [],
   "source": [
    "import pandas as pd\n",
    "import tqdm \n",
    "from tqdm import tqdm \n",
    "import warnings\n",
    "warnings.filterwarnings('ignore')"
   ]
  },
  {
   "cell_type": "code",
   "execution_count": 2,
   "id": "c8ff5174",
   "metadata": {},
   "outputs": [],
   "source": [
    "df = pd.read_csv(r\"D:\\Загрузки\\vacancies.csv\")"
   ]
  },
  {
   "cell_type": "code",
   "execution_count": 3,
   "id": "0b188da1",
   "metadata": {},
   "outputs": [
    {
     "data": {
      "text/html": [
       "<div>\n",
       "<style scoped>\n",
       "    .dataframe tbody tr th:only-of-type {\n",
       "        vertical-align: middle;\n",
       "    }\n",
       "\n",
       "    .dataframe tbody tr th {\n",
       "        vertical-align: top;\n",
       "    }\n",
       "\n",
       "    .dataframe thead th {\n",
       "        text-align: right;\n",
       "    }\n",
       "</style>\n",
       "<table border=\"1\" class=\"dataframe\">\n",
       "  <thead>\n",
       "    <tr style=\"text-align: right;\">\n",
       "      <th></th>\n",
       "      <th>name</th>\n",
       "      <th>tags</th>\n",
       "      <th>link</th>\n",
       "      <th>experience</th>\n",
       "      <th>lower_salary</th>\n",
       "      <th>upper_salary</th>\n",
       "      <th>currency</th>\n",
       "    </tr>\n",
       "  </thead>\n",
       "  <tbody>\n",
       "    <tr>\n",
       "      <th>0</th>\n",
       "      <td>Ведущий менеджер по продажам</td>\n",
       "      <td>['Активные продажи', 'Ведение переговоров', 'Т...</td>\n",
       "      <td>https://adsrv.hh.ru/click?b=533104&amp;c=7&amp;place=3...</td>\n",
       "      <td>Требуемый опыт работы: не требуется</td>\n",
       "      <td>150000.0</td>\n",
       "      <td>150000.0</td>\n",
       "      <td>₽</td>\n",
       "    </tr>\n",
       "    <tr>\n",
       "      <th>1</th>\n",
       "      <td>Data Scientist (команда Поиска)</td>\n",
       "      <td>['Python', 'PyTorch', 'SQL', 'Machine Learning...</td>\n",
       "      <td>https://saratov.hh.ru/vacancy/83116089?from=va...</td>\n",
       "      <td>Требуемый опыт работы: 3–6 лет</td>\n",
       "      <td>350000.0</td>\n",
       "      <td>350000.0</td>\n",
       "      <td>₽</td>\n",
       "    </tr>\n",
       "    <tr>\n",
       "      <th>2</th>\n",
       "      <td>Data Scientist в b2c направление</td>\n",
       "      <td>['Python', 'Machine Learning', 'SQL', 'PyTorch...</td>\n",
       "      <td>https://saratov.hh.ru/vacancy/84009554?from=va...</td>\n",
       "      <td>Требуемый опыт работы: 3–6 лет</td>\n",
       "      <td>NaN</td>\n",
       "      <td>NaN</td>\n",
       "      <td>NaN</td>\n",
       "    </tr>\n",
       "    <tr>\n",
       "      <th>3</th>\n",
       "      <td>Портфельный риск-аналитик / Middle Data Scient...</td>\n",
       "      <td>[]</td>\n",
       "      <td>https://saratov.hh.ru/vacancy/82421077?from=va...</td>\n",
       "      <td>Требуемый опыт работы: 3–6 лет</td>\n",
       "      <td>NaN</td>\n",
       "      <td>NaN</td>\n",
       "      <td>NaN</td>\n",
       "    </tr>\n",
       "    <tr>\n",
       "      <th>4</th>\n",
       "      <td>Трафик-менеджер</td>\n",
       "      <td>['Анализ трафика', 'Аналитика', 'Маркетинг', '...</td>\n",
       "      <td>https://saratov.hh.ru/vacancy/84386152?from=va...</td>\n",
       "      <td>Требуемый опыт работы: 3–6 лет</td>\n",
       "      <td>110000.0</td>\n",
       "      <td>140000.0</td>\n",
       "      <td>₽</td>\n",
       "    </tr>\n",
       "    <tr>\n",
       "      <th>...</th>\n",
       "      <td>...</td>\n",
       "      <td>...</td>\n",
       "      <td>...</td>\n",
       "      <td>...</td>\n",
       "      <td>...</td>\n",
       "      <td>...</td>\n",
       "      <td>...</td>\n",
       "    </tr>\n",
       "    <tr>\n",
       "      <th>795</th>\n",
       "      <td>BI Developer (Tableau)</td>\n",
       "      <td>['Tableau', 'BI', 'SQL']</td>\n",
       "      <td>https://saratov.hh.ru/vacancy/85714273?from=va...</td>\n",
       "      <td>Требуемый опыт работы: 3–6 лет</td>\n",
       "      <td>NaN</td>\n",
       "      <td>NaN</td>\n",
       "      <td>NaN</td>\n",
       "    </tr>\n",
       "    <tr>\n",
       "      <th>796</th>\n",
       "      <td>Performance-маркетолог</td>\n",
       "      <td>[]</td>\n",
       "      <td>https://saratov.hh.ru/vacancy/85557982?from=va...</td>\n",
       "      <td>Требуемый опыт работы: 1–3 года</td>\n",
       "      <td>NaN</td>\n",
       "      <td>NaN</td>\n",
       "      <td>NaN</td>\n",
       "    </tr>\n",
       "    <tr>\n",
       "      <th>797</th>\n",
       "      <td>Ведущий специалист RPA</td>\n",
       "      <td>['Управление проектами', 'Базы данных', 'Data ...</td>\n",
       "      <td>https://saratov.hh.ru/vacancy/82854946?from=va...</td>\n",
       "      <td>Требуемый опыт работы: 1–3 года</td>\n",
       "      <td>NaN</td>\n",
       "      <td>NaN</td>\n",
       "      <td>NaN</td>\n",
       "    </tr>\n",
       "    <tr>\n",
       "      <th>798</th>\n",
       "      <td>IT Специалист/ Engineer (RPA)</td>\n",
       "      <td>['Управление проектами', 'Базы данных', 'Data ...</td>\n",
       "      <td>https://saratov.hh.ru/vacancy/82855036?from=va...</td>\n",
       "      <td>Требуемый опыт работы: 1–3 года</td>\n",
       "      <td>NaN</td>\n",
       "      <td>NaN</td>\n",
       "      <td>NaN</td>\n",
       "    </tr>\n",
       "    <tr>\n",
       "      <th>799</th>\n",
       "      <td>Архитектор направления CVM</td>\n",
       "      <td>['Разработка нового продукта', 'Разработка про...</td>\n",
       "      <td>https://saratov.hh.ru/vacancy/85057503?from=va...</td>\n",
       "      <td>Требуемый опыт работы: более 6 лет</td>\n",
       "      <td>NaN</td>\n",
       "      <td>NaN</td>\n",
       "      <td>NaN</td>\n",
       "    </tr>\n",
       "  </tbody>\n",
       "</table>\n",
       "<p>800 rows × 7 columns</p>\n",
       "</div>"
      ],
      "text/plain": [
       "                                                  name  \\\n",
       "0                         Ведущий менеджер по продажам   \n",
       "1                      Data Scientist (команда Поиска)   \n",
       "2                     Data Scientist в b2c направление   \n",
       "3    Портфельный риск-аналитик / Middle Data Scient...   \n",
       "4                                      Трафик-менеджер   \n",
       "..                                                 ...   \n",
       "795                             BI Developer (Tableau)   \n",
       "796                             Performance-маркетолог   \n",
       "797                             Ведущий специалист RPA   \n",
       "798                      IT Специалист/ Engineer (RPA)   \n",
       "799                         Архитектор направления CVM   \n",
       "\n",
       "                                                  tags  \\\n",
       "0    ['Активные продажи', 'Ведение переговоров', 'Т...   \n",
       "1    ['Python', 'PyTorch', 'SQL', 'Machine Learning...   \n",
       "2    ['Python', 'Machine Learning', 'SQL', 'PyTorch...   \n",
       "3                                                   []   \n",
       "4    ['Анализ трафика', 'Аналитика', 'Маркетинг', '...   \n",
       "..                                                 ...   \n",
       "795                           ['Tableau', 'BI', 'SQL']   \n",
       "796                                                 []   \n",
       "797  ['Управление проектами', 'Базы данных', 'Data ...   \n",
       "798  ['Управление проектами', 'Базы данных', 'Data ...   \n",
       "799  ['Разработка нового продукта', 'Разработка про...   \n",
       "\n",
       "                                                  link  \\\n",
       "0    https://adsrv.hh.ru/click?b=533104&c=7&place=3...   \n",
       "1    https://saratov.hh.ru/vacancy/83116089?from=va...   \n",
       "2    https://saratov.hh.ru/vacancy/84009554?from=va...   \n",
       "3    https://saratov.hh.ru/vacancy/82421077?from=va...   \n",
       "4    https://saratov.hh.ru/vacancy/84386152?from=va...   \n",
       "..                                                 ...   \n",
       "795  https://saratov.hh.ru/vacancy/85714273?from=va...   \n",
       "796  https://saratov.hh.ru/vacancy/85557982?from=va...   \n",
       "797  https://saratov.hh.ru/vacancy/82854946?from=va...   \n",
       "798  https://saratov.hh.ru/vacancy/82855036?from=va...   \n",
       "799  https://saratov.hh.ru/vacancy/85057503?from=va...   \n",
       "\n",
       "                              experience  lower_salary  upper_salary currency  \n",
       "0    Требуемый опыт работы: не требуется      150000.0      150000.0        ₽  \n",
       "1         Требуемый опыт работы: 3–6 лет      350000.0      350000.0        ₽  \n",
       "2         Требуемый опыт работы: 3–6 лет           NaN           NaN      NaN  \n",
       "3         Требуемый опыт работы: 3–6 лет           NaN           NaN      NaN  \n",
       "4         Требуемый опыт работы: 3–6 лет      110000.0      140000.0        ₽  \n",
       "..                                   ...           ...           ...      ...  \n",
       "795       Требуемый опыт работы: 3–6 лет           NaN           NaN      NaN  \n",
       "796      Требуемый опыт работы: 1–3 года           NaN           NaN      NaN  \n",
       "797      Требуемый опыт работы: 1–3 года           NaN           NaN      NaN  \n",
       "798      Требуемый опыт работы: 1–3 года           NaN           NaN      NaN  \n",
       "799   Требуемый опыт работы: более 6 лет           NaN           NaN      NaN  \n",
       "\n",
       "[800 rows x 7 columns]"
      ]
     },
     "execution_count": 3,
     "metadata": {},
     "output_type": "execute_result"
    }
   ],
   "source": [
    "df"
   ]
  },
  {
   "cell_type": "code",
   "execution_count": 4,
   "id": "cd0665a9",
   "metadata": {},
   "outputs": [],
   "source": [
    "df_hh = df.fillna(0)"
   ]
  },
  {
   "cell_type": "code",
   "execution_count": 5,
   "id": "0510f61e",
   "metadata": {},
   "outputs": [
    {
     "data": {
      "text/plain": [
       "tags\n",
       "[]                                             249\n",
       "['Английский\\xa0— B2 — Средне-продвинутый']     11\n",
       "['Английский\\xa0— C1 — Продвинутый']             4\n",
       "['SQL', 'Python']                                3\n",
       "['Английский\\xa0— B1 — Средний']                 2\n",
       "Name: count, dtype: int64"
      ]
     },
     "execution_count": 5,
     "metadata": {},
     "output_type": "execute_result"
    }
   ],
   "source": [
    "df_hh['tags'].value_counts()[:5]"
   ]
  },
  {
   "cell_type": "code",
   "execution_count": 6,
   "id": "e982ca36",
   "metadata": {},
   "outputs": [],
   "source": [
    "df_hh_r = df_hh.replace('[]','-')"
   ]
  },
  {
   "cell_type": "code",
   "execution_count": 7,
   "id": "40b9fdcf",
   "metadata": {},
   "outputs": [
    {
     "data": {
      "text/plain": [
       "tags\n",
       "-                                              249\n",
       "['Английский\\xa0— B2 — Средне-продвинутый']     11\n",
       "['Английский\\xa0— C1 — Продвинутый']             4\n",
       "['SQL', 'Python']                                3\n",
       "['Английский\\xa0— B1 — Средний']                 2\n",
       "Name: count, dtype: int64"
      ]
     },
     "execution_count": 7,
     "metadata": {},
     "output_type": "execute_result"
    }
   ],
   "source": [
    "df_hh_r['tags'].value_counts()[:5]"
   ]
  },
  {
   "cell_type": "code",
   "execution_count": 8,
   "id": "7067263a",
   "metadata": {},
   "outputs": [],
   "source": [
    "# df_hh_r_no = df_hh_r[df_hh_r['tags']!='-']"
   ]
  },
  {
   "cell_type": "code",
   "execution_count": 9,
   "id": "91a7cd5c",
   "metadata": {},
   "outputs": [],
   "source": [
    "# df_hh_r_no_currency = df_hh_r_no[df_hh_r_no['currency']!=0]"
   ]
  },
  {
   "cell_type": "code",
   "execution_count": 10,
   "id": "1cc66cc5",
   "metadata": {},
   "outputs": [],
   "source": [
    "# df_hh_r_no_currency_index= df_hh_r_no_currency.reset_index()"
   ]
  },
  {
   "cell_type": "code",
   "execution_count": 11,
   "id": "bc0a1a0f",
   "metadata": {},
   "outputs": [
    {
     "data": {
      "text/plain": [
       "lower_salary\n",
       "0.0         613\n",
       "200000.0     15\n",
       "150000.0     14\n",
       "100000.0     14\n",
       "250000.0     12\n",
       "350000.0      7\n",
       "1.0           7\n",
       "120000.0      6\n",
       "300000.0      6\n",
       "180000.0      5\n",
       "2500.0        5\n",
       "60000.0       5\n",
       "80000.0       5\n",
       "5.0           4\n",
       "Name: count, dtype: int64"
      ]
     },
     "execution_count": 11,
     "metadata": {},
     "output_type": "execute_result"
    }
   ],
   "source": [
    "df_hh_r['lower_salary'].value_counts()[:5]"
   ]
  },
  {
   "cell_type": "code",
   "execution_count": 12,
   "id": "6727abcc",
   "metadata": {},
   "outputs": [
    {
     "data": {
      "text/plain": [
       "name\n",
       "Data Engineer     23\n",
       "Data Scientist    18\n",
       "Data Analyst      11\n",
       "Data engineer     11\n",
       "Data scientist     6\n",
       "Name: count, dtype: int64"
      ]
     },
     "execution_count": 12,
     "metadata": {},
     "output_type": "execute_result"
    }
   ],
   "source": [
    "df_hh_r['name'].value_counts()[:5]"
   ]
  },
  {
   "cell_type": "code",
   "execution_count": 13,
   "id": "80692086",
   "metadata": {},
   "outputs": [],
   "source": [
    "l=['TeamLead / Тимлид / Руководитель группы разработки (офис)',\n",
    "'Data Scientist (команда Поиска)',\n",
    "'ETL инженер данных / Data Engineer (офис, в Москве)',\n",
    "'Дата инженер \\ Data Engineer AI (удаленно)',\n",
    "'Data scientist / Аналитик риск-моделей',\n",
    "'Senior Sales Manager (Data, BI)',\n",
    "'Lead data scientist',\n",
    "'Data Scientist',\n",
    "'IT Sales Manager/USA and EU Market (remote work)',\n",
    "'Руководитель проектов',\n",
    "'Data Architect',\n",
    "'Инженер / Data Scientist',\n",
    "'BI Developer & Data Analyst',\n",
    "'Data scientist',\n",
    "'Data Scientist/ML Architect (junior)',\n",
    "'Data Engineer (senior)',\n",
    "'Data Loss Prevention (DLP) Specialist - remote',\n",
    "'Data Lead analyst',\n",
    "'Lead Data Analyst',\n",
    "'Аналитик данных/ data analyst',\n",
    "'Lead AI Data Scientist',\n",
    "'Data Engineer',\n",
    "'Аналитик данных / Системный аналитик / Data Analyst (e-commerce)',\n",
    "'Разработчик нейросетевых алгоритмов / Data Scientist',\n",
    "'Аналитик данных / Big Data',\n",
    "'Data Scientist/BackEnd-разработчик',\n",
    "'Data Engineer (Greenplum)',\n",
    "'BI Developer / Data Analyst',\n",
    "'Трафик-менеджер',\n",
    "'CRM Manager / Data analyst',\n",
    "'Data-аналитик, Удалённо',\n",
    "'Data Engineer',\n",
    " 'Data Scientist',\n",
    "  'Data Analyst',\n",
    "  'Data engineer',\n",
    "'Data scientist']"
   ]
  },
  {
   "cell_type": "code",
   "execution_count": 14,
   "id": "12f1381c",
   "metadata": {},
   "outputs": [],
   "source": [
    "df_test  = pd.DataFrame(df_tes,columns = df_hh_r.columns)"
   ]
  },
  {
   "cell_type": "code",
   "execution_count": 25,
   "id": "dc12bda6",
   "metadata": {},
   "outputs": [],
   "source": [
    "df_tes=[]"
   ]
  },
  {
   "cell_type": "code",
   "execution_count": 27,
   "id": "6d96fbce",
   "metadata": {},
   "outputs": [
    {
     "data": {
      "text/html": [
       "<div>\n",
       "<style scoped>\n",
       "    .dataframe tbody tr th:only-of-type {\n",
       "        vertical-align: middle;\n",
       "    }\n",
       "\n",
       "    .dataframe tbody tr th {\n",
       "        vertical-align: top;\n",
       "    }\n",
       "\n",
       "    .dataframe thead th {\n",
       "        text-align: right;\n",
       "    }\n",
       "</style>\n",
       "<table border=\"1\" class=\"dataframe\">\n",
       "  <thead>\n",
       "    <tr style=\"text-align: right;\">\n",
       "      <th></th>\n",
       "      <th>name</th>\n",
       "      <th>tags</th>\n",
       "      <th>link</th>\n",
       "      <th>experience</th>\n",
       "      <th>lower_salary</th>\n",
       "      <th>upper_salary</th>\n",
       "      <th>currency</th>\n",
       "    </tr>\n",
       "  </thead>\n",
       "  <tbody>\n",
       "    <tr>\n",
       "      <th>0</th>\n",
       "      <td>Ведущий менеджер по продажам</td>\n",
       "      <td>['Активные продажи', 'Ведение переговоров', 'Т...</td>\n",
       "      <td>https://adsrv.hh.ru/click?b=533104&amp;c=7&amp;place=3...</td>\n",
       "      <td>Требуемый опыт работы: не требуется</td>\n",
       "      <td>150000.0</td>\n",
       "      <td>150000.0</td>\n",
       "      <td>₽</td>\n",
       "    </tr>\n",
       "    <tr>\n",
       "      <th>1</th>\n",
       "      <td>Data Scientist (команда Поиска)</td>\n",
       "      <td>['Python', 'PyTorch', 'SQL', 'Machine Learning...</td>\n",
       "      <td>https://saratov.hh.ru/vacancy/83116089?from=va...</td>\n",
       "      <td>Требуемый опыт работы: 3–6 лет</td>\n",
       "      <td>350000.0</td>\n",
       "      <td>350000.0</td>\n",
       "      <td>₽</td>\n",
       "    </tr>\n",
       "    <tr>\n",
       "      <th>2</th>\n",
       "      <td>Data Scientist в b2c направление</td>\n",
       "      <td>['Python', 'Machine Learning', 'SQL', 'PyTorch...</td>\n",
       "      <td>https://saratov.hh.ru/vacancy/84009554?from=va...</td>\n",
       "      <td>Требуемый опыт работы: 3–6 лет</td>\n",
       "      <td>0.0</td>\n",
       "      <td>0.0</td>\n",
       "      <td>0</td>\n",
       "    </tr>\n",
       "    <tr>\n",
       "      <th>3</th>\n",
       "      <td>Портфельный риск-аналитик / Middle Data Scient...</td>\n",
       "      <td>-</td>\n",
       "      <td>https://saratov.hh.ru/vacancy/82421077?from=va...</td>\n",
       "      <td>Требуемый опыт работы: 3–6 лет</td>\n",
       "      <td>0.0</td>\n",
       "      <td>0.0</td>\n",
       "      <td>0</td>\n",
       "    </tr>\n",
       "    <tr>\n",
       "      <th>4</th>\n",
       "      <td>Трафик-менеджер</td>\n",
       "      <td>['Анализ трафика', 'Аналитика', 'Маркетинг', '...</td>\n",
       "      <td>https://saratov.hh.ru/vacancy/84386152?from=va...</td>\n",
       "      <td>Требуемый опыт работы: 3–6 лет</td>\n",
       "      <td>110000.0</td>\n",
       "      <td>140000.0</td>\n",
       "      <td>₽</td>\n",
       "    </tr>\n",
       "    <tr>\n",
       "      <th>...</th>\n",
       "      <td>...</td>\n",
       "      <td>...</td>\n",
       "      <td>...</td>\n",
       "      <td>...</td>\n",
       "      <td>...</td>\n",
       "      <td>...</td>\n",
       "      <td>...</td>\n",
       "    </tr>\n",
       "    <tr>\n",
       "      <th>795</th>\n",
       "      <td>BI Developer (Tableau)</td>\n",
       "      <td>['Tableau', 'BI', 'SQL']</td>\n",
       "      <td>https://saratov.hh.ru/vacancy/85714273?from=va...</td>\n",
       "      <td>Требуемый опыт работы: 3–6 лет</td>\n",
       "      <td>0.0</td>\n",
       "      <td>0.0</td>\n",
       "      <td>0</td>\n",
       "    </tr>\n",
       "    <tr>\n",
       "      <th>796</th>\n",
       "      <td>Performance-маркетолог</td>\n",
       "      <td>-</td>\n",
       "      <td>https://saratov.hh.ru/vacancy/85557982?from=va...</td>\n",
       "      <td>Требуемый опыт работы: 1–3 года</td>\n",
       "      <td>0.0</td>\n",
       "      <td>0.0</td>\n",
       "      <td>0</td>\n",
       "    </tr>\n",
       "    <tr>\n",
       "      <th>797</th>\n",
       "      <td>Ведущий специалист RPA</td>\n",
       "      <td>['Управление проектами', 'Базы данных', 'Data ...</td>\n",
       "      <td>https://saratov.hh.ru/vacancy/82854946?from=va...</td>\n",
       "      <td>Требуемый опыт работы: 1–3 года</td>\n",
       "      <td>0.0</td>\n",
       "      <td>0.0</td>\n",
       "      <td>0</td>\n",
       "    </tr>\n",
       "    <tr>\n",
       "      <th>798</th>\n",
       "      <td>IT Специалист/ Engineer (RPA)</td>\n",
       "      <td>['Управление проектами', 'Базы данных', 'Data ...</td>\n",
       "      <td>https://saratov.hh.ru/vacancy/82855036?from=va...</td>\n",
       "      <td>Требуемый опыт работы: 1–3 года</td>\n",
       "      <td>0.0</td>\n",
       "      <td>0.0</td>\n",
       "      <td>0</td>\n",
       "    </tr>\n",
       "    <tr>\n",
       "      <th>799</th>\n",
       "      <td>Архитектор направления CVM</td>\n",
       "      <td>['Разработка нового продукта', 'Разработка про...</td>\n",
       "      <td>https://saratov.hh.ru/vacancy/85057503?from=va...</td>\n",
       "      <td>Требуемый опыт работы: более 6 лет</td>\n",
       "      <td>0.0</td>\n",
       "      <td>0.0</td>\n",
       "      <td>0</td>\n",
       "    </tr>\n",
       "  </tbody>\n",
       "</table>\n",
       "<p>800 rows × 7 columns</p>\n",
       "</div>"
      ],
      "text/plain": [
       "                                                  name  \\\n",
       "0                         Ведущий менеджер по продажам   \n",
       "1                      Data Scientist (команда Поиска)   \n",
       "2                     Data Scientist в b2c направление   \n",
       "3    Портфельный риск-аналитик / Middle Data Scient...   \n",
       "4                                      Трафик-менеджер   \n",
       "..                                                 ...   \n",
       "795                             BI Developer (Tableau)   \n",
       "796                             Performance-маркетолог   \n",
       "797                             Ведущий специалист RPA   \n",
       "798                      IT Специалист/ Engineer (RPA)   \n",
       "799                         Архитектор направления CVM   \n",
       "\n",
       "                                                  tags  \\\n",
       "0    ['Активные продажи', 'Ведение переговоров', 'Т...   \n",
       "1    ['Python', 'PyTorch', 'SQL', 'Machine Learning...   \n",
       "2    ['Python', 'Machine Learning', 'SQL', 'PyTorch...   \n",
       "3                                                    -   \n",
       "4    ['Анализ трафика', 'Аналитика', 'Маркетинг', '...   \n",
       "..                                                 ...   \n",
       "795                           ['Tableau', 'BI', 'SQL']   \n",
       "796                                                  -   \n",
       "797  ['Управление проектами', 'Базы данных', 'Data ...   \n",
       "798  ['Управление проектами', 'Базы данных', 'Data ...   \n",
       "799  ['Разработка нового продукта', 'Разработка про...   \n",
       "\n",
       "                                                  link  \\\n",
       "0    https://adsrv.hh.ru/click?b=533104&c=7&place=3...   \n",
       "1    https://saratov.hh.ru/vacancy/83116089?from=va...   \n",
       "2    https://saratov.hh.ru/vacancy/84009554?from=va...   \n",
       "3    https://saratov.hh.ru/vacancy/82421077?from=va...   \n",
       "4    https://saratov.hh.ru/vacancy/84386152?from=va...   \n",
       "..                                                 ...   \n",
       "795  https://saratov.hh.ru/vacancy/85714273?from=va...   \n",
       "796  https://saratov.hh.ru/vacancy/85557982?from=va...   \n",
       "797  https://saratov.hh.ru/vacancy/82854946?from=va...   \n",
       "798  https://saratov.hh.ru/vacancy/82855036?from=va...   \n",
       "799  https://saratov.hh.ru/vacancy/85057503?from=va...   \n",
       "\n",
       "                              experience  lower_salary  upper_salary currency  \n",
       "0    Требуемый опыт работы: не требуется      150000.0      150000.0        ₽  \n",
       "1         Требуемый опыт работы: 3–6 лет      350000.0      350000.0        ₽  \n",
       "2         Требуемый опыт работы: 3–6 лет           0.0           0.0        0  \n",
       "3         Требуемый опыт работы: 3–6 лет           0.0           0.0        0  \n",
       "4         Требуемый опыт работы: 3–6 лет      110000.0      140000.0        ₽  \n",
       "..                                   ...           ...           ...      ...  \n",
       "795       Требуемый опыт работы: 3–6 лет           0.0           0.0        0  \n",
       "796      Требуемый опыт работы: 1–3 года           0.0           0.0        0  \n",
       "797      Требуемый опыт работы: 1–3 года           0.0           0.0        0  \n",
       "798      Требуемый опыт работы: 1–3 года           0.0           0.0        0  \n",
       "799   Требуемый опыт работы: более 6 лет           0.0           0.0        0  \n",
       "\n",
       "[800 rows x 7 columns]"
      ]
     },
     "execution_count": 27,
     "metadata": {},
     "output_type": "execute_result"
    }
   ],
   "source": [
    "df_hh_r"
   ]
  },
  {
   "cell_type": "code",
   "execution_count": 28,
   "id": "e0e00cdf",
   "metadata": {},
   "outputs": [
    {
     "data": {
      "text/plain": [
       "[]"
      ]
     },
     "execution_count": 28,
     "metadata": {},
     "output_type": "execute_result"
    }
   ],
   "source": [
    "df_tes"
   ]
  },
  {
   "cell_type": "code",
   "execution_count": 29,
   "id": "76cd55ef",
   "metadata": {},
   "outputs": [
    {
     "name": "stderr",
     "output_type": "stream",
     "text": [
      "800it [00:00, 11162.08it/s]\n"
     ]
    }
   ],
   "source": [
    "for i, row in tqdm(df_hh_r.iterrows()):\n",
    "    if row['name'] in l:\n",
    "        df_tes.append(row)"
   ]
  },
  {
   "cell_type": "code",
   "execution_count": 30,
   "id": "14d518f7",
   "metadata": {},
   "outputs": [],
   "source": [
    "df_test  = pd.DataFrame(df_tes,columns = df_hh_r.columns)"
   ]
  },
  {
   "cell_type": "code",
   "execution_count": 31,
   "id": "975ddf1b",
   "metadata": {},
   "outputs": [
    {
     "data": {
      "text/plain": [
       "experience\n",
       "Требуемый опыт работы: 3–6 лет         45\n",
       "Требуемый опыт работы: 1–3 года        45\n",
       "Требуемый опыт работы: не требуется     4\n",
       "Требуемый опыт работы: более 6 лет      3\n",
       "Name: count, dtype: int64"
      ]
     },
     "execution_count": 31,
     "metadata": {},
     "output_type": "execute_result"
    }
   ],
   "source": [
    "df_test['experience'].value_counts()"
   ]
  },
  {
   "cell_type": "code",
   "execution_count": 32,
   "id": "60615728",
   "metadata": {},
   "outputs": [],
   "source": [
    "def test_salary(row):\n",
    "    if row['lower_salary'] == row['upper_salary']:\n",
    "        return int(row['upper_salary'])\n",
    "    else:\n",
    "        return 0 "
   ]
  },
  {
   "cell_type": "code",
   "execution_count": 33,
   "id": "3ca0aee6",
   "metadata": {},
   "outputs": [],
   "source": [
    "def test_more_salary(row):\n",
    "    if row['upper_salary']>row['lower_salary']:\n",
    "        return int(row['upper_salary']-row['lower_salary'])\n",
    "    else:\n",
    "        return int(0) "
   ]
  },
  {
   "cell_type": "code",
   "execution_count": 34,
   "id": "3a7d3394",
   "metadata": {},
   "outputs": [],
   "source": [
    "df_test['3_6_years'] = df_test['experience'].apply(lambda x: '3-6' if x=='Требуемый опыт работы: 3–6 лет' else '')\n",
    "df_test['1_3_years'] = df_test['experience'].apply(lambda x: '1-3' if x=='Требуемый опыт работы: 1–3 года' else '')\n",
    "df_test['not_required'] = df_test['experience'].apply(lambda x: '0' if x=='Требуемый опыт работы: не требуется' else '')\n",
    "df_test['more_6_years'] = df_test['experience'].apply(lambda x: 'more 6' if x=='Требуемый опыт работы: более 6 лет' else '')\n",
    "df_test['lower_salary_35'] = df_test['lower_salary'].apply(lambda x: 'more 350' if x==350000.0  else '')\n",
    "df_test['test_salary'] = df_test.apply(test_salary,axis=1)\n",
    "df_test['test_more_salary'] = df_test.apply(test_more_salary,axis=1)"
   ]
  },
  {
   "cell_type": "code",
   "execution_count": 35,
   "id": "ee3d3800",
   "metadata": {},
   "outputs": [],
   "source": [
    "df_t = pd.DataFrame(columns= df_test.columns)"
   ]
  },
  {
   "cell_type": "code",
   "execution_count": 36,
   "id": "357e348a",
   "metadata": {
    "scrolled": false
   },
   "outputs": [],
   "source": [
    "df_test3 = df_test[(df_test['currency']!=0)&(df_test['tags']!='-')][:1]"
   ]
  },
  {
   "cell_type": "code",
   "execution_count": 37,
   "id": "9811a4af",
   "metadata": {},
   "outputs": [],
   "source": [
    "test2 = [\"['Python', 'PyTorch', 'SQL', 'Machine Learning', 'Анализ данных', 'data science', 'numpy', 'scipy', 'pandas', 'lightgbm', 'pytorch', 'scikit-learn', 'neural nets', 'nlp', 'search ranking', 'recommender systems', 'a/b-experiments', 'hadoop', 'hive', 'presto', 'Mathematics']\"]"
   ]
  },
  {
   "cell_type": "code",
   "execution_count": 38,
   "id": "60693b4b",
   "metadata": {},
   "outputs": [],
   "source": [
    "df_test3['link'] = df_test3['link'].replace('//','&')"
   ]
  },
  {
   "cell_type": "code",
   "execution_count": 39,
   "id": "9c7199c9",
   "metadata": {},
   "outputs": [
    {
     "data": {
      "text/html": [
       "<div>\n",
       "<style scoped>\n",
       "    .dataframe tbody tr th:only-of-type {\n",
       "        vertical-align: middle;\n",
       "    }\n",
       "\n",
       "    .dataframe tbody tr th {\n",
       "        vertical-align: top;\n",
       "    }\n",
       "\n",
       "    .dataframe thead th {\n",
       "        text-align: right;\n",
       "    }\n",
       "</style>\n",
       "<table border=\"1\" class=\"dataframe\">\n",
       "  <thead>\n",
       "    <tr style=\"text-align: right;\">\n",
       "      <th></th>\n",
       "      <th>name</th>\n",
       "      <th>tags</th>\n",
       "      <th>link</th>\n",
       "      <th>experience</th>\n",
       "      <th>lower_salary</th>\n",
       "      <th>upper_salary</th>\n",
       "      <th>currency</th>\n",
       "      <th>3_6_years</th>\n",
       "      <th>1_3_years</th>\n",
       "      <th>not_required</th>\n",
       "      <th>more_6_years</th>\n",
       "      <th>lower_salary_35</th>\n",
       "      <th>test_salary</th>\n",
       "      <th>test_more_salary</th>\n",
       "    </tr>\n",
       "  </thead>\n",
       "  <tbody>\n",
       "    <tr>\n",
       "      <th>1</th>\n",
       "      <td>Data Scientist (команда Поиска)</td>\n",
       "      <td>['Python', 'PyTorch', 'SQL', 'Machine Learning...</td>\n",
       "      <td>https://saratov.hh.ru/vacancy/83116089?from=va...</td>\n",
       "      <td>Требуемый опыт работы: 3–6 лет</td>\n",
       "      <td>350000.0</td>\n",
       "      <td>350000.0</td>\n",
       "      <td>₽</td>\n",
       "      <td>3-6</td>\n",
       "      <td></td>\n",
       "      <td></td>\n",
       "      <td></td>\n",
       "      <td>more 350</td>\n",
       "      <td>350000</td>\n",
       "      <td>0</td>\n",
       "    </tr>\n",
       "  </tbody>\n",
       "</table>\n",
       "</div>"
      ],
      "text/plain": [
       "                              name  \\\n",
       "1  Data Scientist (команда Поиска)   \n",
       "\n",
       "                                                tags  \\\n",
       "1  ['Python', 'PyTorch', 'SQL', 'Machine Learning...   \n",
       "\n",
       "                                                link  \\\n",
       "1  https://saratov.hh.ru/vacancy/83116089?from=va...   \n",
       "\n",
       "                       experience  lower_salary  upper_salary currency  \\\n",
       "1  Требуемый опыт работы: 3–6 лет      350000.0      350000.0        ₽   \n",
       "\n",
       "  3_6_years 1_3_years not_required more_6_years lower_salary_35  test_salary  \\\n",
       "1       3-6                                            more 350       350000   \n",
       "\n",
       "   test_more_salary  \n",
       "1                 0  "
      ]
     },
     "execution_count": 39,
     "metadata": {},
     "output_type": "execute_result"
    }
   ],
   "source": [
    "df_test3"
   ]
  },
  {
   "cell_type": "code",
   "execution_count": 40,
   "id": "79a4d9e2",
   "metadata": {},
   "outputs": [
    {
     "name": "stdout",
     "output_type": "stream",
     "text": [
      "I don\"t now\n"
     ]
    }
   ],
   "source": [
    "if 'Python' in test2:\n",
    "    print('Я_здесь')\n",
    "else:\n",
    "    print('I don\"t now')"
   ]
  },
  {
   "cell_type": "code",
   "execution_count": 41,
   "id": "bbda054b",
   "metadata": {},
   "outputs": [
    {
     "ename": "SyntaxError",
     "evalue": "invalid syntax (1906271647.py, line 1)",
     "output_type": "error",
     "traceback": [
      "\u001b[1;36m  Cell \u001b[1;32mIn[41], line 1\u001b[1;36m\u001b[0m\n\u001b[1;33m    Прогнать на изначальных данных, чтобы посмотреть на результат,построить графики\u001b[0m\n\u001b[1;37m             ^\u001b[0m\n\u001b[1;31mSyntaxError\u001b[0m\u001b[1;31m:\u001b[0m invalid syntax\n"
     ]
    }
   ],
   "source": [
    "Прогнать на изначальных данных, чтобы посмотреть на результат,построить графики"
   ]
  },
  {
   "cell_type": "code",
   "execution_count": null,
   "id": "539a64c9",
   "metadata": {},
   "outputs": [],
   "source": []
  }
 ],
 "metadata": {
  "kernelspec": {
   "display_name": "Python 3 (ipykernel)",
   "language": "python",
   "name": "python3"
  },
  "language_info": {
   "codemirror_mode": {
    "name": "ipython",
    "version": 3
   },
   "file_extension": ".py",
   "mimetype": "text/x-python",
   "name": "python",
   "nbconvert_exporter": "python",
   "pygments_lexer": "ipython3",
   "version": "3.11.9"
  }
 },
 "nbformat": 4,
 "nbformat_minor": 5
}
