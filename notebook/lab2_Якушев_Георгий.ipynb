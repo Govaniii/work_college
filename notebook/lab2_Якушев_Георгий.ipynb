{
  "cells": [
    {
      "cell_type": "markdown",
      "source": [
        "# Обучение нейронной сети на распознование картинок цветов\n",
        "#### Инициализация pytorch и скачивание датасета"
      ],
      "metadata": {
        "id": "Oo0eYrIH2lmf"
      },
      "id": "Oo0eYrIH2lmf"
    },
    {
      "cell_type": "code",
      "execution_count": null,
      "id": "23702657",
      "metadata": {
        "id": "23702657"
      },
      "outputs": [],
      "source": [
        "from pathlib import Path\n",
        "import torch\n",
        "import torch.nn as nn\n",
        "import torchvision\n",
        "import numpy as np\n",
        "import matplotlib.pyplot as plt\n",
        "plt.style.use('ggplot')\n",
        "\n",
        "path = Path(r'C:\\Users\\User\\Deep Learning\\dataset2\\flower_images')"
      ]
    },
    {
      "cell_type": "markdown",
      "source": [
        "#### Проверка на доступность cuda"
      ],
      "metadata": {
        "id": "wDXMoEg-28v0"
      },
      "id": "wDXMoEg-28v0"
    },
    {
      "cell_type": "code",
      "execution_count": null,
      "id": "3bea63db",
      "metadata": {
        "id": "3bea63db",
        "outputId": "4f073174-8b0e-4a03-f0a9-91a51d8ebcb6"
      },
      "outputs": [
        {
          "name": "stdout",
          "output_type": "stream",
          "text": [
            "False\n"
          ]
        }
      ],
      "source": [
        "print(torch.cuda.is_available())"
      ]
    },
    {
      "cell_type": "code",
      "execution_count": null,
      "id": "d03519a7",
      "metadata": {
        "id": "d03519a7",
        "outputId": "a407eebf-0e1a-40c9-b8c2-71532ca70694"
      },
      "outputs": [
        {
          "data": {
            "text/plain": [
              "device(type='cpu')"
            ]
          },
          "execution_count": 4,
          "metadata": {},
          "output_type": "execute_result"
        }
      ],
      "source": [
        "device = torch.device(\"cuda\" if torch.cuda.is_available() else \"cpu\")\n",
        "device"
      ]
    },
    {
      "cell_type": "markdown",
      "source": [
        "#### Инициализация transforms из torchvision"
      ],
      "metadata": {
        "id": "O41Olrtd3jZ2"
      },
      "id": "O41Olrtd3jZ2"
    },
    {
      "cell_type": "code",
      "execution_count": null,
      "id": "2fb7ac7a",
      "metadata": {
        "id": "2fb7ac7a"
      },
      "outputs": [],
      "source": [
        "import torchvision.transforms as transforms\n",
        "from torch.utils.data import DataLoader, random_split\n",
        "from torchvision.datasets import ImageFolder\n",
        "\n",
        "transform = transforms.Compose([\n",
        "    transforms.Resize((224, 224)),\n",
        "    transforms.RandomHorizontalFlip(),\n",
        "    transforms.ToTensor(),\n",
        "    transforms.Normalize(mean=[0.5, 0.5, 0.5], std=[0.5, 0.5, 0.5])\n",
        "])"
      ]
    },
    {
      "cell_type": "markdown",
      "source": [
        "#### Создание датафрейма для обучения"
      ],
      "metadata": {
        "id": "Z40iT1i03vMs"
      },
      "id": "Z40iT1i03vMs"
    },
    {
      "cell_type": "code",
      "execution_count": null,
      "id": "002df421",
      "metadata": {
        "id": "002df421",
        "outputId": "c5e45828-dbaf-493d-bacc-5388e647c787"
      },
      "outputs": [
        {
          "data": {
            "text/plain": [
              "Dataset ImageFolder\n",
              "    Number of datapoints: 4999\n",
              "    Root location: C:\\Users\\User\\Deep Learning\\dataset2\\flower_images\n",
              "    StandardTransform\n",
              "Transform: Compose(\n",
              "               Resize(size=(224, 224), interpolation=bilinear, max_size=None, antialias=warn)\n",
              "               RandomHorizontalFlip(p=0.5)\n",
              "               ToTensor()\n",
              "               Normalize(mean=[0.5, 0.5, 0.5], std=[0.5, 0.5, 0.5])\n",
              "           )"
            ]
          },
          "execution_count": 6,
          "metadata": {},
          "output_type": "execute_result"
        }
      ],
      "source": [
        "dataset = ImageFolder(path, transform=transform)\n",
        "dataset"
      ]
    },
    {
      "cell_type": "markdown",
      "source": [
        "#### Создание размера датасета для тренировачных данных и валидационных и разделение данных датасета"
      ],
      "metadata": {
        "id": "z0nQVbXl4R7R"
      },
      "id": "z0nQVbXl4R7R"
    },
    {
      "cell_type": "code",
      "execution_count": null,
      "id": "448b84cb",
      "metadata": {
        "id": "448b84cb"
      },
      "outputs": [],
      "source": [
        "train_size = int(0.8 * len(dataset))\n",
        "val_size = len(dataset) - train_size\n",
        "train_dataset, val_dataset = random_split(dataset, [train_size, val_size])"
      ]
    },
    {
      "cell_type": "markdown",
      "source": [
        "#### Размер количества выборок для каждого DataLoader\n",
        "\n"
      ],
      "metadata": {
        "id": "UppDEIK746We"
      },
      "id": "UppDEIK746We"
    },
    {
      "cell_type": "code",
      "execution_count": null,
      "id": "8c15fd17",
      "metadata": {
        "id": "8c15fd17"
      },
      "outputs": [],
      "source": [
        "batch_size = 64\n",
        "\n",
        "train_loader = DataLoader(train_dataset, batch_size=batch_size, shuffle=True)\n",
        "val_loader = DataLoader(val_dataset, batch_size=batch_size, shuffle=False)"
      ]
    },
    {
      "cell_type": "markdown",
      "source": [
        "#### Выбор оптимизатора и готовой модели для обучения на новых данных\n",
        "##### Выбор пал на готовую resnet 50, так как данная модель подходит для таких задач с готовым датасетом и не требует дополнительных настроек\n",
        "#####  "
      ],
      "metadata": {
        "id": "FQjygYjF5hGS"
      },
      "id": "FQjygYjF5hGS"
    },
    {
      "cell_type": "code",
      "execution_count": null,
      "id": "73b72241",
      "metadata": {
        "id": "73b72241",
        "outputId": "e49e48af-2602-4941-e9ec-4d7fab2b3628"
      },
      "outputs": [
        {
          "name": "stderr",
          "output_type": "stream",
          "text": [
            "C:\\Users\\User\\AppData\\Roaming\\Python\\Python38\\site-packages\\torchvision\\models\\_utils.py:208: UserWarning: The parameter 'pretrained' is deprecated since 0.13 and may be removed in the future, please use 'weights' instead.\n",
            "  warnings.warn(\n",
            "C:\\Users\\User\\AppData\\Roaming\\Python\\Python38\\site-packages\\torchvision\\models\\_utils.py:223: UserWarning: Arguments other than a weight enum or `None` for 'weights' are deprecated since 0.13 and may be removed in the future. The current behavior is equivalent to passing `weights=ResNet50_Weights.IMAGENET1K_V1`. You can also use `weights=ResNet50_Weights.DEFAULT` to get the most up-to-date weights.\n",
            "  warnings.warn(msg)\n"
          ]
        }
      ],
      "source": [
        "import torchvision.models as models\n",
        "\n",
        "model = models.resnet50(pretrained=True)\n",
        "\n",
        "# Freeze the weights of the ResNet50 model\n",
        "for param in model.parameters():\n",
        "    param.requires_grad = False\n",
        "\n",
        "num_classes = 5\n",
        "model.fc = nn.Linear(model.fc.in_features, num_classes)"
      ]
    },
    {
      "cell_type": "code",
      "execution_count": null,
      "id": "9d77ad0e",
      "metadata": {
        "id": "9d77ad0e"
      },
      "outputs": [],
      "source": [
        "import torch.optim as optim\n",
        "\n",
        "criterion = nn.CrossEntropyLoss()\n",
        "optimizer = optim.SGD(model.fc.parameters(), lr=0.0005, momentum=0.9)"
      ]
    },
    {
      "cell_type": "code",
      "execution_count": null,
      "id": "448affec",
      "metadata": {
        "id": "448affec",
        "outputId": "7a368e72-89d8-4678-da37-c14785103028"
      },
      "outputs": [
        {
          "name": "stdout",
          "output_type": "stream",
          "text": [
            "Epoch 1 training loss: 1.2848 accuracy: 0.5881\n",
            "Test loss: 0.9797 accuracy: 0.7960\n",
            "Epoch 2 training loss: 0.8405 accuracy: 0.8130\n",
            "Test loss: 0.7459 accuracy: 0.8250\n",
            "Epoch 3 training loss: 0.6744 accuracy: 0.8370\n",
            "Test loss: 0.6375 accuracy: 0.8410\n",
            "Epoch 4 training loss: 0.5941 accuracy: 0.8505\n",
            "Test loss: 0.5825 accuracy: 0.8420\n",
            "Epoch 5 training loss: 0.5380 accuracy: 0.8605\n",
            "Test loss: 0.5418 accuracy: 0.8490\n",
            "Epoch 6 training loss: 0.4980 accuracy: 0.8645\n",
            "Test loss: 0.5061 accuracy: 0.8520\n",
            "Epoch 7 training loss: 0.4693 accuracy: 0.8730\n",
            "Test loss: 0.4819 accuracy: 0.8670\n",
            "Epoch 8 training loss: 0.4495 accuracy: 0.8732\n",
            "Test loss: 0.4662 accuracy: 0.8620\n",
            "Epoch 9 training loss: 0.4335 accuracy: 0.8725\n",
            "Test loss: 0.4555 accuracy: 0.8670\n",
            "Epoch 10 training loss: 0.4155 accuracy: 0.8790\n",
            "Test loss: 0.4445 accuracy: 0.8730\n"
          ]
        }
      ],
      "source": [
        "num_epochs = 10\n",
        "\n",
        "# Move the model to the GPU\n",
        "model.to(device)\n",
        "\n",
        "# Define dictionaries to store training and testing metrics\n",
        "train_metrics = {'loss': [], 'accuracy': []}\n",
        "test_metrics = {'loss': [], 'accuracy': []}\n",
        "\n",
        "for epoch in range(num_epochs):\n",
        "    running_loss = 0.0\n",
        "    correct = 0\n",
        "    total = 0\n",
        "\n",
        "    for images, labels in train_loader:\n",
        "        # Move input data to the GPU\n",
        "        images = images.to(device)\n",
        "        labels = labels.to(device)\n",
        "\n",
        "        # Zero the parameter gradients\n",
        "        optimizer.zero_grad()\n",
        "\n",
        "        # Forward + backward + optimize\n",
        "        outputs = model(images)\n",
        "        loss = criterion(outputs, labels)\n",
        "        loss.backward()\n",
        "        optimizer.step()\n",
        "\n",
        "        # Print statistics\n",
        "        running_loss += loss.item() * images.size(0)\n",
        "        _, predicted = torch.max(outputs.data, 1)\n",
        "        total += labels.size(0)\n",
        "        correct += (predicted == labels).sum().item()\n",
        "\n",
        "    # Calculate training metrics and store them in dictionary\n",
        "    epoch_loss = running_loss / len(train_loader.dataset)\n",
        "    epoch_acc = correct / total\n",
        "    train_metrics['loss'].append(epoch_loss)\n",
        "    train_metrics['accuracy'].append(epoch_acc)\n",
        "    print(f'Epoch {epoch + 1} training loss: {epoch_loss:.4f} accuracy: {epoch_acc:.4f}')\n",
        "\n",
        "    # Evaluate the model on the test set and store metrics in dictionary\n",
        "    running_loss = 0.0\n",
        "    correct = 0\n",
        "    total = 0\n",
        "    with torch.no_grad():\n",
        "        for images, labels in val_loader:\n",
        "            images = images.to(device)\n",
        "            labels = labels.to(device)\n",
        "\n",
        "            outputs = model(images)\n",
        "            loss = criterion(outputs, labels)\n",
        "            running_loss += loss.item() * images.size(0)\n",
        "            _, predicted = torch.max(outputs.data, 1)\n",
        "            total += labels.size(0)\n",
        "            correct += (predicted == labels).sum().item()\n",
        "\n",
        "    epoch_loss = running_loss / len(val_loader.dataset)\n",
        "    epoch_acc = correct / total\n",
        "    test_metrics['loss'].append(epoch_loss)\n",
        "    test_metrics['accuracy'].append(epoch_acc)\n",
        "    print(f'Test loss: {epoch_loss:.4f} accuracy: {epoch_acc:.4f}')"
      ]
    },
    {
      "cell_type": "markdown",
      "source": [
        "#### График обучения моделей тренировочных и тестовых данных"
      ],
      "metadata": {
        "id": "ju8CreBD32NR"
      },
      "id": "ju8CreBD32NR"
    },
    {
      "cell_type": "code",
      "execution_count": null,
      "id": "dbaeac07",
      "metadata": {
        "id": "dbaeac07",
        "outputId": "bf2a86f7-7f85-457a-ca99-9092bc73d89d"
      },
      "outputs": [
        {
          "data": {
            "image/png": "[encoded data removed]",
            "text/plain": [
              "<Figure size 640x480 with 1 Axes>"
            ]
          },
          "metadata": {},
          "output_type": "display_data"
        },
        {
          "data": {
            "image/png": "[encoded data removed]",
            "text/plain": [
              "<Figure size 640x480 with 1 Axes>"
            ]
          },
          "metadata": {},
          "output_type": "display_data"
        }
      ],
      "source": [
        "import matplotlib.pyplot as plt\n",
        "\n",
        "# Plot training and testing loss\n",
        "plt.plot(train_metrics['loss'], label='Training Loss')\n",
        "plt.plot(test_metrics['loss'], label='Testing Loss')\n",
        "plt.xlabel('Epoch')\n",
        "plt.ylabel('Loss')\n",
        "plt.legend()\n",
        "plt.show()\n",
        "\n",
        "# Plot training and testing accuracy\n",
        "plt.plot(train_metrics['accuracy'], label='Training Accuracy')\n",
        "plt.plot(test_metrics['accuracy'], label='Testing Accuracy')\n",
        "plt.xlabel('Epoch')\n",
        "plt.ylabel('Accuracy')\n",
        "plt.legend()\n",
        "plt.show()"
      ]
    },
    {
      "cell_type": "code",
      "execution_count": null,
      "id": "d3ad04a1",
      "metadata": {
        "id": "d3ad04a1"
      },
      "outputs": [],
      "source": [
        "df = pd.read_csv(\"/content/dataset/train.csv\",low_memory = False)\n",
        "# To display the top 5 rows\n",
        "df.head(5)"
      ]
    }
  ],
  "metadata": {
    "kernelspec": {
      "display_name": "Python 3 (ipykernel)",
      "language": "python",
      "name": "python3"
    },
    "language_info": {
      "codemirror_mode": {
        "name": "ipython",
        "version": 3
      },
      "file_extension": ".py",
      "mimetype": "text/x-python",
      "name": "python",
      "nbconvert_exporter": "python",
      "pygments_lexer": "ipython3",
      "version": "3.8.5"
    },
    "colab": {
      "provenance": []
    }
  },
  "nbformat": 4,
  "nbformat_minor": 5
}