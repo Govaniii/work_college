{
  "cells": [
    {
      "cell_type": "markdown",
      "source": [
        "# Данная работала выполнялась в рамках лабораторной работы по учебной дисциплине глубокое обучение в магистратуре"
      ],
      "metadata": {
        "id": "D04347XBBA2S"
      },
      "id": "D04347XBBA2S"
    },
    {
      "cell_type": "code",
      "execution_count": null,
      "id": "9a6e5327",
      "metadata": {
        "id": "9a6e5327"
      },
      "outputs": [],
      "source": [
        "import torch\n",
        "from torch import nn\n",
        "from torch.utils.data import Dataset, DataLoader\n",
        "import torch.nn.functional as F\n",
        "from sklearn.preprocessing import StandardScaler\n",
        "from sklearn.model_selection import train_test_split\n",
        "from sklearn.preprocessing import LabelEncoder\n",
        "import matplotlib.pyplot as plt\n",
        "\n",
        "from seaborn import heatmap\n",
        "from torch.utils.data import DataLoader\n",
        "import pandas as pd\n",
        "import numpy as np\n",
        "import seaborn as sns"
      ]
    },
    {
      "cell_type": "markdown",
      "source": [
        "# Реализация обучения модели происходила не на основе готовой модели\n",
        "## Обучение модели на определение сердечных проблем на основе следующих данных:\n",
        "* gender,\n",
        "* ever_married,\n",
        "* work_type,\n",
        "* Residence_type,\n",
        "* smoking_status.\n",
        "\n",
        "## Чтобы получить более точный результат требовалось разработать модель с нуля\n",
        "\n",
        "## Поэтому был реализован собственный классы:\n",
        "* CustomTensorDataset\n",
        "* NeuralNetwork\n",
        "\n",
        "\n"
      ],
      "metadata": {
        "id": "WLBAcwYN67TM"
      },
      "id": "WLBAcwYN67TM"
    },
    {
      "cell_type": "code",
      "execution_count": null,
      "id": "e4ffdbdc",
      "metadata": {
        "id": "e4ffdbdc"
      },
      "outputs": [],
      "source": [
        "df = pd.read_csv(r'D:\\Загрузки\\healthcare-dataset-stroke-data.csv')\n"
      ]
    },
    {
      "cell_type": "code",
      "execution_count": null,
      "id": "7f8901be",
      "metadata": {
        "id": "7f8901be",
        "outputId": "8d61dae6-eb36-4b51-c252-46b0efbf2a4b"
      },
      "outputs": [
        {
          "name": "stderr",
          "output_type": "stream",
          "text": [
            "C:\\Users\\User\\AppData\\Local\\Temp\\ipykernel_2416\\491377160.py:1: FutureWarning: The default value of numeric_only in DataFrame.mean is deprecated. In a future version, it will default to False. In addition, specifying 'numeric_only=None' is deprecated. Select only valid columns or specify the value of numeric_only to silence this warning.\n",
            "  df.fillna((df.mean()), inplace=True)\n"
          ]
        }
      ],
      "source": [
        "df.fillna((df.mean()), inplace=True)"
      ]
    },
    {
      "cell_type": "code",
      "execution_count": null,
      "id": "36c8b086",
      "metadata": {
        "id": "36c8b086",
        "outputId": "82f3ee4a-349d-49b0-ccaf-9e8c46a3487f"
      },
      "outputs": [
        {
          "data": {
            "text/plain": [
              "array(['formerly smoked', 'never smoked', 'smokes', 'Unknown'],\n",
              "      dtype=object)"
            ]
          },
          "execution_count": 5,
          "metadata": {},
          "output_type": "execute_result"
        }
      ],
      "source": [
        "df['smoking_status'].unique()"
      ]
    },
    {
      "cell_type": "code",
      "execution_count": null,
      "id": "d93ff3aa",
      "metadata": {
        "id": "d93ff3aa",
        "outputId": "39eca682-ae4f-4290-df25-7e9e05a6ba04"
      },
      "outputs": [
        {
          "name": "stdout",
          "output_type": "stream",
          "text": [
            "cpu\n"
          ]
        }
      ],
      "source": [
        "device = 'cuda' if torch.cuda.is_available() else 'cpu'\n",
        "print(device)"
      ]
    },
    {
      "cell_type": "markdown",
      "source": [
        "#### Подготовка данных для обучения"
      ],
      "metadata": {
        "id": "w9RZlcQoBUWA"
      },
      "id": "w9RZlcQoBUWA"
    },
    {
      "cell_type": "code",
      "execution_count": null,
      "id": "15ad838d",
      "metadata": {
        "id": "15ad838d"
      },
      "outputs": [],
      "source": [
        "class Myclass:\n",
        "    def create_Category_columns(self, df, column):\n",
        "        unique_values = df[column].unique()\n",
        "        for value in unique_values:\n",
        "            df[value] = df[column].apply(lambda x: 1 if x == value else 0)\n"
      ]
    },
    {
      "cell_type": "code",
      "execution_count": null,
      "id": "b178bbc9",
      "metadata": {
        "id": "b178bbc9"
      },
      "outputs": [],
      "source": [
        "p1 = Myclass()"
      ]
    },
    {
      "cell_type": "code",
      "execution_count": null,
      "id": "c91fd32c",
      "metadata": {
        "id": "c91fd32c"
      },
      "outputs": [],
      "source": [
        "p1.create_Category_columns(df, 'gender')"
      ]
    },
    {
      "cell_type": "code",
      "execution_count": null,
      "id": "174f9c49",
      "metadata": {
        "id": "174f9c49"
      },
      "outputs": [],
      "source": [
        "p1.create_Category_columns(df, 'work_type')\n"
      ]
    },
    {
      "cell_type": "code",
      "execution_count": null,
      "id": "712ea9d8",
      "metadata": {
        "id": "712ea9d8"
      },
      "outputs": [],
      "source": [
        "p1.create_Category_columns(df, 'Residence_type')"
      ]
    },
    {
      "cell_type": "code",
      "execution_count": null,
      "id": "4e8db80e",
      "metadata": {
        "id": "4e8db80e"
      },
      "outputs": [],
      "source": [
        "p1.create_Category_columns(df, 'smoking_status')"
      ]
    },
    {
      "cell_type": "code",
      "execution_count": null,
      "id": "d7642d35",
      "metadata": {
        "id": "d7642d35"
      },
      "outputs": [],
      "source": [
        "p1.create_Category_columns(df, 'ever_married')"
      ]
    },
    {
      "cell_type": "code",
      "execution_count": null,
      "id": "7d601e21",
      "metadata": {
        "id": "7d601e21"
      },
      "outputs": [],
      "source": [
        "df = df.drop(['id','gender','ever_married','work_type','Residence_type','smoking_status'],axis=1)"
      ]
    },
    {
      "cell_type": "code",
      "execution_count": null,
      "id": "7354c894",
      "metadata": {
        "id": "7354c894"
      },
      "outputs": [],
      "source": [
        "column_names=df.columns.to_list()"
      ]
    },
    {
      "cell_type": "markdown",
      "source": [
        "#### Перетасовка данных"
      ],
      "metadata": {
        "id": "aeveS9xABruM"
      },
      "id": "aeveS9xABruM"
    },
    {
      "cell_type": "code",
      "execution_count": null,
      "id": "a1c80faf",
      "metadata": {
        "id": "a1c80faf"
      },
      "outputs": [],
      "source": [
        "from sklearn import preprocessing\n",
        "\n",
        "x = df.values\n",
        "min_max_scaler = preprocessing.MinMaxScaler()\n",
        "x_scaled = min_max_scaler.fit_transform(x)\n",
        "df = pd.DataFrame(x_scaled,columns=column_names)"
      ]
    },
    {
      "cell_type": "code",
      "execution_count": null,
      "id": "1187d97e",
      "metadata": {
        "id": "1187d97e"
      },
      "outputs": [],
      "source": [
        "from imblearn.over_sampling import SMOTE\n",
        "import torch.optim as optim"
      ]
    },
    {
      "cell_type": "markdown",
      "source": [
        "#### Разработка классов для обучения модели"
      ],
      "metadata": {
        "id": "pkhD4H1mBwSe"
      },
      "id": "pkhD4H1mBwSe"
    },
    {
      "cell_type": "code",
      "execution_count": null,
      "id": "8fe6d121",
      "metadata": {
        "id": "8fe6d121"
      },
      "outputs": [],
      "source": [
        "class CustomTensorDataset(Dataset):\n",
        "    def __init__(self, *tensors):\n",
        "        assert all(tensors[0].size(0) == tensor.size(0) for tensor in tensors), \"Размеры тензоров должны быть одинаковыми\"\n",
        "        self.tensors = tensors\n",
        "\n",
        "    def __getitem__(self, index):\n",
        "        return tuple(tensor[index] for tensor in self.tensors)\n",
        "\n",
        "    def __len__(self):\n",
        "        return self.tensors[0].size(0)"
      ]
    },
    {
      "cell_type": "code",
      "execution_count": null,
      "id": "2e32e551",
      "metadata": {
        "id": "2e32e551"
      },
      "outputs": [],
      "source": [
        "class NeuralNetwork(nn.Module):\n",
        "    def __init__(self, input_size, hidden_size, output_size):\n",
        "        super(NeuralNetwork, self).__init__()\n",
        "        self.fc1 = nn.Linear(input_size, hidden_size)\n",
        "        self.bt = nn.BatchNorm1d(hidden_size)\n",
        "        self.relu = nn.ReLU()\n",
        "        self.fc2 = nn.Linear(hidden_size,hidden_size*3)\n",
        "        self.bt2 = nn.BatchNorm1d(hidden_size*3)\n",
        "        self.fc3= nn.Linear(hidden_size*3,output_size)\n",
        "#         self.bt3 = nn.BatchNorm1d(hidden_size)\n",
        "#         self.fc4= nn.Linear(hidden_size,output_size)\n",
        "\n",
        "\n",
        "\n",
        "\n",
        "    def forward(self, x):\n",
        "        out = self.fc1(x)\n",
        "        out = self.bt(out)\n",
        "        out = self.relu(out)\n",
        "        out = self.fc2(out)\n",
        "        out = self.bt2(out)\n",
        "        out = self.relu(out)\n",
        "        out = self.fc3(out)\n",
        "#         out = self.bt3(out)\n",
        "#         out = self.relu(out)\n",
        "#         out = self.fc4(out)\n",
        "        return out"
      ]
    },
    {
      "cell_type": "code",
      "execution_count": null,
      "id": "9c435826",
      "metadata": {
        "id": "9c435826"
      },
      "outputs": [],
      "source": [
        "X = df.drop(['stroke'], axis=1)\n",
        "y = df['stroke']\n",
        "x_train, x_validation, y_train, y_validation = train_test_split(X, y, test_size=0.2, random_state=42)\n"
      ]
    },
    {
      "cell_type": "code",
      "execution_count": null,
      "id": "28a9bbba",
      "metadata": {
        "id": "28a9bbba"
      },
      "outputs": [],
      "source": [
        "sm = SMOTE()\n",
        "x_train, y_train = sm.fit_resample(x_train, y_train)"
      ]
    },
    {
      "cell_type": "markdown",
      "source": [
        "#### Распределение данных для обучения и валидации"
      ],
      "metadata": {
        "id": "QwiPfb7CB_kY"
      },
      "id": "QwiPfb7CB_kY"
    },
    {
      "cell_type": "code",
      "execution_count": null,
      "id": "3cb57a74",
      "metadata": {
        "id": "3cb57a74"
      },
      "outputs": [],
      "source": [
        "x_train_tensor = torch.from_numpy(x_train.values).float()\n",
        "y_train_tensor = torch.from_numpy(y_train.values).long()\n",
        "x_validation_tensor = torch.from_numpy(x_validation.values).float()\n",
        "y_validation_tensor = torch.from_numpy(y_validation.values).long()"
      ]
    },
    {
      "cell_type": "markdown",
      "source": [
        "#### Указываем настроки для обучения модели"
      ],
      "metadata": {
        "id": "cQQg7FcYCFSi"
      },
      "id": "cQQg7FcYCFSi"
    },
    {
      "cell_type": "code",
      "execution_count": null,
      "id": "531c5605",
      "metadata": {
        "id": "531c5605"
      },
      "outputs": [],
      "source": [
        "input_size = x_train_tensor.shape[1]\n",
        "hidden_size = 64\n",
        "output_size = 2\n",
        "batch_size = 64\n",
        "learning_rate = 0.00001\n",
        "num_epochs = 100"
      ]
    },
    {
      "cell_type": "code",
      "execution_count": null,
      "id": "20bb9f1e",
      "metadata": {
        "id": "20bb9f1e"
      },
      "outputs": [],
      "source": [
        "train_dataset = CustomTensorDataset(x_train_tensor, y_train_tensor)\n",
        "validation_dataset = CustomTensorDataset(x_validation_tensor, y_validation_tensor)\n",
        "train_dataloader = DataLoader(train_dataset, batch_size=batch_size, shuffle=True)\n",
        "validation_dataloader = DataLoader(validation_dataset, batch_size=batch_size, shuffle=False)"
      ]
    },
    {
      "cell_type": "code",
      "execution_count": null,
      "id": "052848a3",
      "metadata": {
        "id": "052848a3"
      },
      "outputs": [],
      "source": [
        "model = NeuralNetwork(input_size, hidden_size, output_size)\n",
        "criterion = nn.CrossEntropyLoss()\n",
        "optimizer = optim.Adam(model.parameters(), lr=learning_rate)"
      ]
    },
    {
      "cell_type": "markdown",
      "source": [
        "#### Обучение модели"
      ],
      "metadata": {
        "id": "-xjQAKaSB72z"
      },
      "id": "-xjQAKaSB72z"
    },
    {
      "cell_type": "code",
      "execution_count": null,
      "id": "ab7ad348",
      "metadata": {
        "id": "ab7ad348",
        "outputId": "14c46cba-f0d9-4d39-a2a2-ca69915c43bc"
      },
      "outputs": [
        {
          "name": "stdout",
          "output_type": "stream",
          "text": [
            "Epoch [1/100], Loss: 0.6715, Validation Accuracy: 63.21, Validation Loss: 0.6684%\n",
            "Epoch [2/100], Loss: 0.6408, Validation Accuracy: 66.83, Validation Loss: 0.6279%\n",
            "Epoch [3/100], Loss: 0.6176, Validation Accuracy: 64.48, Validation Loss: 0.6178%\n",
            "Epoch [4/100], Loss: 0.5998, Validation Accuracy: 65.26, Validation Loss: 0.5976%\n",
            "Epoch [5/100], Loss: 0.5851, Validation Accuracy: 66.73, Validation Loss: 0.5776%\n",
            "Epoch [6/100], Loss: 0.5715, Validation Accuracy: 64.77, Validation Loss: 0.5845%\n",
            "Epoch [7/100], Loss: 0.5619, Validation Accuracy: 66.83, Validation Loss: 0.5617%\n",
            "Epoch [8/100], Loss: 0.5515, Validation Accuracy: 66.34, Validation Loss: 0.5637%\n",
            "Epoch [9/100], Loss: 0.5441, Validation Accuracy: 65.95, Validation Loss: 0.5613%\n",
            "Epoch [10/100], Loss: 0.5367, Validation Accuracy: 64.38, Validation Loss: 0.5686%\n",
            "Epoch [11/100], Loss: 0.5281, Validation Accuracy: 66.93, Validation Loss: 0.5444%\n",
            "Epoch [12/100], Loss: 0.5219, Validation Accuracy: 67.81, Validation Loss: 0.5381%\n",
            "Epoch [13/100], Loss: 0.5146, Validation Accuracy: 67.32, Validation Loss: 0.5432%\n",
            "Epoch [14/100], Loss: 0.5075, Validation Accuracy: 70.35, Validation Loss: 0.5170%\n",
            "Epoch [15/100], Loss: 0.5022, Validation Accuracy: 70.16, Validation Loss: 0.5186%\n",
            "Epoch [16/100], Loss: 0.4974, Validation Accuracy: 68.69, Validation Loss: 0.5299%\n",
            "Epoch [17/100], Loss: 0.4902, Validation Accuracy: 72.02, Validation Loss: 0.4917%\n",
            "Epoch [18/100], Loss: 0.4859, Validation Accuracy: 71.82, Validation Loss: 0.4990%\n",
            "Epoch [19/100], Loss: 0.4795, Validation Accuracy: 69.37, Validation Loss: 0.5145%\n",
            "Epoch [20/100], Loss: 0.4772, Validation Accuracy: 72.41, Validation Loss: 0.4860%\n",
            "Epoch [21/100], Loss: 0.4712, Validation Accuracy: 72.60, Validation Loss: 0.4799%\n",
            "Epoch [22/100], Loss: 0.4692, Validation Accuracy: 73.87, Validation Loss: 0.4714%\n",
            "Epoch [23/100], Loss: 0.4644, Validation Accuracy: 72.02, Validation Loss: 0.4920%\n",
            "Epoch [24/100], Loss: 0.4575, Validation Accuracy: 73.68, Validation Loss: 0.4710%\n",
            "Epoch [25/100], Loss: 0.4536, Validation Accuracy: 73.78, Validation Loss: 0.4716%\n",
            "Epoch [26/100], Loss: 0.4513, Validation Accuracy: 74.27, Validation Loss: 0.4694%\n",
            "Epoch [27/100], Loss: 0.4484, Validation Accuracy: 73.87, Validation Loss: 0.4695%\n",
            "Epoch [28/100], Loss: 0.4437, Validation Accuracy: 73.19, Validation Loss: 0.4734%\n",
            "Epoch [29/100], Loss: 0.4418, Validation Accuracy: 74.07, Validation Loss: 0.4622%\n",
            "Epoch [30/100], Loss: 0.4393, Validation Accuracy: 73.09, Validation Loss: 0.4778%\n",
            "Epoch [31/100], Loss: 0.4367, Validation Accuracy: 74.07, Validation Loss: 0.4647%\n",
            "Epoch [32/100], Loss: 0.4340, Validation Accuracy: 74.17, Validation Loss: 0.4673%\n",
            "Epoch [33/100], Loss: 0.4304, Validation Accuracy: 74.56, Validation Loss: 0.4554%\n",
            "Epoch [34/100], Loss: 0.4269, Validation Accuracy: 75.64, Validation Loss: 0.4462%\n",
            "Epoch [35/100], Loss: 0.4261, Validation Accuracy: 74.36, Validation Loss: 0.4582%\n",
            "Epoch [36/100], Loss: 0.4237, Validation Accuracy: 76.91, Validation Loss: 0.4303%\n",
            "Epoch [37/100], Loss: 0.4212, Validation Accuracy: 74.95, Validation Loss: 0.4536%\n",
            "Epoch [38/100], Loss: 0.4178, Validation Accuracy: 75.83, Validation Loss: 0.4406%\n",
            "Epoch [39/100], Loss: 0.4178, Validation Accuracy: 74.56, Validation Loss: 0.4633%\n",
            "Epoch [40/100], Loss: 0.4140, Validation Accuracy: 75.54, Validation Loss: 0.4481%\n",
            "Epoch [41/100], Loss: 0.4138, Validation Accuracy: 76.81, Validation Loss: 0.4355%\n",
            "Epoch [42/100], Loss: 0.4130, Validation Accuracy: 75.73, Validation Loss: 0.4455%\n",
            "Epoch [43/100], Loss: 0.4087, Validation Accuracy: 75.93, Validation Loss: 0.4423%\n",
            "Epoch [44/100], Loss: 0.4106, Validation Accuracy: 76.22, Validation Loss: 0.4368%\n",
            "Epoch [45/100], Loss: 0.4102, Validation Accuracy: 78.38, Validation Loss: 0.4105%\n",
            "Epoch [46/100], Loss: 0.4038, Validation Accuracy: 77.01, Validation Loss: 0.4261%\n",
            "Epoch [47/100], Loss: 0.4015, Validation Accuracy: 76.52, Validation Loss: 0.4332%\n",
            "Epoch [48/100], Loss: 0.4024, Validation Accuracy: 75.44, Validation Loss: 0.4447%\n",
            "Epoch [49/100], Loss: 0.4033, Validation Accuracy: 76.22, Validation Loss: 0.4229%\n",
            "Epoch [50/100], Loss: 0.3978, Validation Accuracy: 76.61, Validation Loss: 0.4290%\n",
            "Epoch [51/100], Loss: 0.3988, Validation Accuracy: 76.13, Validation Loss: 0.4342%\n",
            "Epoch [52/100], Loss: 0.3961, Validation Accuracy: 77.20, Validation Loss: 0.4232%\n",
            "Epoch [53/100], Loss: 0.3939, Validation Accuracy: 76.42, Validation Loss: 0.4286%\n",
            "Epoch [54/100], Loss: 0.3958, Validation Accuracy: 76.61, Validation Loss: 0.4263%\n",
            "Epoch [55/100], Loss: 0.3923, Validation Accuracy: 77.30, Validation Loss: 0.4171%\n",
            "Epoch [56/100], Loss: 0.3928, Validation Accuracy: 75.93, Validation Loss: 0.4358%\n",
            "Epoch [57/100], Loss: 0.3902, Validation Accuracy: 77.40, Validation Loss: 0.4155%\n",
            "Epoch [58/100], Loss: 0.3911, Validation Accuracy: 76.61, Validation Loss: 0.4284%\n",
            "Epoch [59/100], Loss: 0.3890, Validation Accuracy: 77.20, Validation Loss: 0.4210%\n",
            "Epoch [60/100], Loss: 0.3882, Validation Accuracy: 75.73, Validation Loss: 0.4383%\n",
            "Epoch [61/100], Loss: 0.3858, Validation Accuracy: 77.10, Validation Loss: 0.4250%\n",
            "Epoch [62/100], Loss: 0.3854, Validation Accuracy: 75.44, Validation Loss: 0.4453%\n",
            "Epoch [63/100], Loss: 0.3848, Validation Accuracy: 76.71, Validation Loss: 0.4266%\n",
            "Epoch [64/100], Loss: 0.3881, Validation Accuracy: 76.61, Validation Loss: 0.4281%\n",
            "Epoch [65/100], Loss: 0.3797, Validation Accuracy: 78.57, Validation Loss: 0.3990%\n",
            "Epoch [66/100], Loss: 0.3834, Validation Accuracy: 77.79, Validation Loss: 0.4088%\n",
            "Epoch [67/100], Loss: 0.3795, Validation Accuracy: 76.61, Validation Loss: 0.4253%\n",
            "Epoch [68/100], Loss: 0.3826, Validation Accuracy: 78.18, Validation Loss: 0.4093%\n",
            "Epoch [69/100], Loss: 0.3789, Validation Accuracy: 76.81, Validation Loss: 0.4294%\n",
            "Epoch [70/100], Loss: 0.3784, Validation Accuracy: 76.22, Validation Loss: 0.4331%\n",
            "Epoch [71/100], Loss: 0.3785, Validation Accuracy: 78.08, Validation Loss: 0.4087%\n",
            "Epoch [72/100], Loss: 0.3765, Validation Accuracy: 76.22, Validation Loss: 0.4318%\n",
            "Epoch [73/100], Loss: 0.3786, Validation Accuracy: 76.61, Validation Loss: 0.4303%\n",
            "Epoch [74/100], Loss: 0.3761, Validation Accuracy: 77.50, Validation Loss: 0.4156%\n",
            "Epoch [75/100], Loss: 0.3740, Validation Accuracy: 77.20, Validation Loss: 0.4231%\n",
            "Epoch [76/100], Loss: 0.3723, Validation Accuracy: 78.18, Validation Loss: 0.4029%\n",
            "Epoch [77/100], Loss: 0.3721, Validation Accuracy: 77.30, Validation Loss: 0.4183%\n",
            "Epoch [78/100], Loss: 0.3715, Validation Accuracy: 79.16, Validation Loss: 0.3957%\n",
            "Epoch [79/100], Loss: 0.3694, Validation Accuracy: 75.93, Validation Loss: 0.4392%\n",
            "Epoch [80/100], Loss: 0.3705, Validation Accuracy: 78.57, Validation Loss: 0.3979%\n",
            "Epoch [81/100], Loss: 0.3692, Validation Accuracy: 78.67, Validation Loss: 0.4037%\n",
            "Epoch [82/100], Loss: 0.3684, Validation Accuracy: 77.79, Validation Loss: 0.4139%\n",
            "Epoch [83/100], Loss: 0.3686, Validation Accuracy: 77.50, Validation Loss: 0.4160%\n",
            "Epoch [84/100], Loss: 0.3663, Validation Accuracy: 77.98, Validation Loss: 0.4077%\n",
            "Epoch [85/100], Loss: 0.3650, Validation Accuracy: 77.10, Validation Loss: 0.4199%\n",
            "Epoch [86/100], Loss: 0.3688, Validation Accuracy: 78.86, Validation Loss: 0.4008%\n",
            "Epoch [87/100], Loss: 0.3648, Validation Accuracy: 77.20, Validation Loss: 0.4235%\n",
            "Epoch [88/100], Loss: 0.3654, Validation Accuracy: 75.93, Validation Loss: 0.4332%\n",
            "Epoch [89/100], Loss: 0.3665, Validation Accuracy: 77.20, Validation Loss: 0.4178%\n",
            "Epoch [90/100], Loss: 0.3627, Validation Accuracy: 78.96, Validation Loss: 0.3904%\n",
            "Epoch [91/100], Loss: 0.3626, Validation Accuracy: 78.08, Validation Loss: 0.4090%\n",
            "Epoch [92/100], Loss: 0.3620, Validation Accuracy: 77.98, Validation Loss: 0.4153%\n",
            "Epoch [93/100], Loss: 0.3577, Validation Accuracy: 76.91, Validation Loss: 0.4227%\n",
            "Epoch [94/100], Loss: 0.3639, Validation Accuracy: 77.69, Validation Loss: 0.4146%\n",
            "Epoch [95/100], Loss: 0.3607, Validation Accuracy: 77.98, Validation Loss: 0.4122%\n",
            "Epoch [96/100], Loss: 0.3579, Validation Accuracy: 77.40, Validation Loss: 0.4105%\n",
            "Epoch [97/100], Loss: 0.3557, Validation Accuracy: 77.79, Validation Loss: 0.4116%\n",
            "Epoch [98/100], Loss: 0.3579, Validation Accuracy: 77.50, Validation Loss: 0.4177%\n",
            "Epoch [99/100], Loss: 0.3578, Validation Accuracy: 78.96, Validation Loss: 0.4011%\n"
          ]
        },
        {
          "name": "stdout",
          "output_type": "stream",
          "text": [
            "Epoch [100/100], Loss: 0.3566, Validation Accuracy: 77.98, Validation Loss: 0.4078%\n"
          ]
        }
      ],
      "source": [
        "train_losses = []\n",
        "validation_losses = []\n",
        "validation_accuracies = []\n",
        "\n",
        "# Обучение модели\n",
        "for epoch in range(num_epochs):\n",
        "    train_loss = 0.0\n",
        "    model.train()\n",
        "    for inputs, labels in train_dataloader:\n",
        "        optimizer.zero_grad()\n",
        "        outputs = model(inputs)\n",
        "        loss = criterion(outputs, labels)\n",
        "        loss.backward()\n",
        "        optimizer.step()\n",
        "        train_loss += loss.item()\n",
        "    train_loss /= len(train_dataloader)\n",
        "    train_losses.append(train_loss)\n",
        "\n",
        "    model.eval()\n",
        "    with torch.no_grad():\n",
        "        validation_loss = 0.0\n",
        "        correct = 0\n",
        "        total = 0\n",
        "        for inputs, labels in validation_dataloader:\n",
        "            outputs = model(inputs)\n",
        "            loss = criterion(outputs, labels)\n",
        "            validation_loss += loss.item()\n",
        "            _, predicted = torch.max(outputs, dim=1)\n",
        "            total += labels.size(0)\n",
        "            correct += (predicted == labels).sum().item()\n",
        "        validation_loss /= len(validation_dataloader)\n",
        "        validation_accuracy = 100 * correct / total\n",
        "        validation_losses.append(validation_loss)\n",
        "        validation_accuracies.append(validation_accuracy)\n",
        "\n",
        "    print('Epoch [{}/{}], Loss: {:.4f}, Validation Accuracy: {:.2f}, Validation Loss: {:.4f}%'.format(epoch+1, num_epochs, train_loss, validation_accuracy, validation_loss))"
      ]
    },
    {
      "cell_type": "markdown",
      "source": [
        "#### Графики обучения на тренировачных и тестовых данных, а также отдельных график, который показывает как происходит распознование при валидации"
      ],
      "metadata": {
        "id": "E1jWAyLcAMPj"
      },
      "id": "E1jWAyLcAMPj"
    },
    {
      "cell_type": "code",
      "execution_count": null,
      "id": "95c1d22b",
      "metadata": {
        "scrolled": false,
        "id": "95c1d22b",
        "outputId": "87c468c2-97de-4b7f-9346-77a2d61bb53f"
      },
      "outputs": [
        {
          "data": {
            "image/png": "[encoded data removed]",
            "text/plain": [
              "<Figure size 640x480 with 1 Axes>"
            ]
          },
          "metadata": {},
          "output_type": "display_data"
        },
        {
          "data": {
            "image/png": "[encoded data removed]",
            "text/plain": [
              "<Figure size 640x480 with 1 Axes>"
            ]
          },
          "metadata": {},
          "output_type": "display_data"
        }
      ],
      "source": [
        "plt.plot(range(1, num_epochs+1), train_losses, label='Training Loss')\n",
        "plt.plot(range(1, num_epochs+1), validation_losses, label='Validation Loss')\n",
        "plt.xlabel('Epoch')\n",
        "plt.ylabel('Loss')\n",
        "plt.legend()\n",
        "plt.show()\n",
        "\n",
        "plt.plot(range(1, num_epochs+1), validation_accuracies)\n",
        "plt.xlabel('Epoch')\n",
        "plt.ylabel('Validation Accuracy')\n",
        "plt.title('Validation Accuracy')\n",
        "plt.show()"
      ]
    },
    {
      "cell_type": "markdown",
      "source": [
        "#### Проверяем на количество ошибок"
      ],
      "metadata": {
        "id": "BLGB-YObAaDn"
      },
      "id": "BLGB-YObAaDn"
    },
    {
      "cell_type": "code",
      "execution_count": null,
      "id": "c7b27d03",
      "metadata": {
        "id": "c7b27d03",
        "outputId": "83a2f1d3-9705-457e-b109-c3b299296cb9"
      },
      "outputs": [
        {
          "name": "stdout",
          "output_type": "stream",
          "text": [
            "Матрица ошибок:\n",
            "[[757 203]\n",
            " [ 22  40]]\n"
          ]
        }
      ],
      "source": [
        "model.eval()\n",
        "with torch.no_grad():\n",
        "    validation_predictions = []\n",
        "    for inputs, labels in validation_dataloader:\n",
        "        outputs = model(inputs)\n",
        "        _, predicted = torch.max(outputs, dim=1)\n",
        "        validation_predictions.extend(predicted.tolist())\n",
        "    confusion_matrix = np.zeros((output_size, output_size), dtype=int)\n",
        "    for i in range(len(validation_predictions)):\n",
        "        confusion_matrix[y_validation_tensor[i].item(), validation_predictions[i]] += 1\n",
        "\n",
        "print('Матрица ошибок:')\n",
        "print(confusion_matrix)\n"
      ]
    }
  ],
  "metadata": {
    "kernelspec": {
      "display_name": "Python 3 (ipykernel)",
      "language": "python",
      "name": "python3"
    },
    "language_info": {
      "codemirror_mode": {
        "name": "ipython",
        "version": 3
      },
      "file_extension": ".py",
      "mimetype": "text/x-python",
      "name": "python",
      "nbconvert_exporter": "python",
      "pygments_lexer": "ipython3",
      "version": "3.8.5"
    },
    "colab": {
      "provenance": []
    }
  },
  "nbformat": 4,
  "nbformat_minor": 5
}